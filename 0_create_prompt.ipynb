{
 "cells": [
  {
   "cell_type": "markdown",
   "metadata": {},
   "source": []
  },
  {
   "cell_type": "markdown",
   "metadata": {},
   "source": []
  },
  {
   "cell_type": "code",
   "execution_count": 1,
   "metadata": {},
   "outputs": [],
   "source": [
    "import json\n",
    "import yaml\n",
    "import boto3\n",
    "import logging\n",
    "from pathlib import Path"
   ]
  },
  {
   "cell_type": "code",
   "execution_count": null,
   "metadata": {},
   "outputs": [],
   "source": [
    "# Setup logging\n",
    "logging.basicConfig(format='[%(asctime)s] p%(process)s {%(filename)s:%(lineno)d} %(levelname)s - %(message)s', level=logging.INFO)\n",
    "logger = logging.getLogger(__name__)"
   ]
  },
  {
   "cell_type": "code",
   "execution_count": null,
   "metadata": {},
   "outputs": [],
   "source": [
    "# global constants\n",
    "CONFIG_FILE: str = \"config.yml\""
   ]
  },
  {
   "cell_type": "code",
   "execution_count": null,
   "metadata": {},
   "outputs": [],
   "source": [
    "# fetch the current AWS region\n",
    "region = boto3.client('sts').meta.region_name # change to another region if you do not want\n",
    "# the region to be dynamically fetched\n",
    "logger.info(f\"Current AWS region: {region}\")\n",
    "bedrock_agent = boto3.client(service_name = \"bedrock-agent\", region_name = region)"
   ]
  },
  {
   "cell_type": "code",
   "execution_count": null,
   "metadata": {},
   "outputs": [],
   "source": [
    "config = yaml.safe_load(Path(CONFIG_FILE).read_text())\n",
    "logger.info(f\"config=\\n{json.dumps(config, indent=2)}\")"
   ]
  },
  {
   "cell_type": "code",
   "execution_count": null,
   "metadata": {},
   "outputs": [],
   "source": [
    "import re\n",
    "from typing import List\n",
    "\n",
    "def extract_mustache_keys(text: str) -> List[str]:\n",
    "    \"\"\"\n",
    "    Extract all mustache-style keys ({{key}}) from the input text.\n",
    "    \n",
    "    Args:\n",
    "        text (str): Input text containing mustache syntax\n",
    "        \n",
    "    Returns:\n",
    "        List[str]: List of extracted keys without the curly braces\n",
    "    \"\"\"\n",
    "    # The pattern looks for:\n",
    "    # \\{\\{ - literal {{ (escaped because { is special in regex)\n",
    "    # (.*?) - any characters (non-greedy match)\n",
    "    # \\}\\} - literal }}\n",
    "    pattern = r'\\{\\{(.*?)\\}\\}'\n",
    "    \n",
    "    # Find all matches and extract the group inside the braces\n",
    "    matches = re.findall(pattern, text)\n",
    "    \n",
    "    # Strip whitespace from each match\n",
    "    return [match.strip() for match in matches]"
   ]
  },
  {
   "cell_type": "code",
   "execution_count": null,
   "metadata": {},
   "outputs": [],
   "source": [
    "def create_bedrock_prompt(name: str, description: str, text: str, parameters: dict, model_id: str):\n",
    "    \"\"\"\n",
    "    Creates a prompt configuration for Amazon Bedrock using specified parameters.\n",
    "    \n",
    "    This function constructs a prompt template with inference settings and template configuration\n",
    "    for use with Amazon Bedrock's language models. It automatically extracts input variables \n",
    "    from mustache-style placeholders in the template text.\n",
    "\n",
    "    Args:\n",
    "        name (str): The name identifier for the prompt template\n",
    "        description (str): A description of the prompt template's purpose\n",
    "        text (str): The template text containing mustache-style variables (e.g., {{variable}})\n",
    "        parameters (dict): Configuration parameters including:\n",
    "            - max_tokens (int): Maximum number of tokens in the response\n",
    "            - temperature (float): Sampling temperature for text generation\n",
    "        model_id (str): The identifier of the Bedrock model to use\n",
    "\n",
    "    Returns:\n",
    "        dict: The response from the Bedrock create_prompt API call, containing the created\n",
    "              prompt configuration details\n",
    "\n",
    "    Examples:\n",
    "        >>> parameters = {\n",
    "        ...     'max_tokens': 100,\n",
    "        ...     'temperature': 0.7\n",
    "        ... }\n",
    "        >>> create_bedrock_prompt(\n",
    "        ...     name=\"test_prompt\",\n",
    "        ...     description=\"A test prompt\",\n",
    "        ...     text=\"Hello {{name}}, how are you?\",\n",
    "        ...     parameters=parameters,\n",
    "        ...     model_id=\"anthropic.claude-v2\"\n",
    "        ... )\n",
    "\n",
    "    Notes:\n",
    "        - The function automatically creates a default variant named \"default_variant\"\n",
    "        - Input variables are automatically extracted from {{mustache}} syntax in the template text\n",
    "        - Logs the API response using the logger module\n",
    "        - Requires the bedrock_agent and logger to be properly configured\n",
    "    \"\"\"\n",
    "    \n",
    "    default_variant_name = \"default_variant\"\n",
    "    input_variables = [dict(name=k) for k in extract_mustache_keys(text)]\n",
    "    variant = {\n",
    "            \"inferenceConfiguration\": {\n",
    "            \"text\": {\n",
    "                \"maxTokens\": parameters['max_tokens'],\n",
    "                \"temperature\": parameters['temperature'],\n",
    "                }\n",
    "            },\n",
    "            \"modelId\": model_id,\n",
    "            \"name\": default_variant_name,\n",
    "            \"templateConfiguration\": {\n",
    "                \"text\": {\n",
    "                    \"inputVariables\": input_variables,\n",
    "                    \"text\": text\n",
    "                }\n",
    "            },\n",
    "            \"templateType\": \"TEXT\"\n",
    "        }\n",
    "    response = bedrock_agent.create_prompt(name=name,\n",
    "                                           description=description,\n",
    "                                           variants=[variant],\n",
    "                                           defaultVariant=default_variant_name)\n",
    "    logger.info(f\"response={json.dumps(response, indent=2)}\")\n",
    "    return response\n",
    "\n",
    "\n",
    "    \n"
   ]
  },
  {
   "cell_type": "code",
   "execution_count": null,
   "metadata": {},
   "outputs": [],
   "source": [
    "for model_family, info in config['prompt_templates'].items():\n",
    "    for model_id in info['models']:\n",
    "        name = config['prompt_info']['name'].format(model_id=model_id)\n",
    "        name = re.sub('[:\\.]', '-', name)\n",
    "        try:\n",
    "            response = create_bedrock_prompt(name,\n",
    "                                             config['prompt_info']['description'],\n",
    "                                             info['text'],\n",
    "                                             config['inference_parameters'],\n",
    "                                             model_id)\n",
    "        except Exception as e:\n",
    "            logger.error(f\"exception occurred while creating prompt, name={name}, exception={e}\")"
   ]
  }
 ],
 "metadata": {
  "kernelspec": {
   "display_name": ".venv",
   "language": "python",
   "name": "python3"
  },
  "language_info": {
   "codemirror_mode": {
    "name": "ipython",
    "version": 3
   },
   "file_extension": ".py",
   "mimetype": "text/x-python",
   "name": "python",
   "nbconvert_exporter": "python",
   "pygments_lexer": "ipython3",
   "version": "3.12.3"
  }
 },
 "nbformat": 4,
 "nbformat_minor": 2
}
